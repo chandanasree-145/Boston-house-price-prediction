{
 "cells": [
  {
   "cell_type": "markdown",
   "id": "02d39084",
   "metadata": {},
   "source": [
    "### Question 3"
   ]
  },
  {
   "cell_type": "code",
   "execution_count": 3,
   "id": "8113e58c",
   "metadata": {},
   "outputs": [],
   "source": [
    "import numpy as np\n",
    "import matplotlib.pyplot as plt\n",
    "from sklearn.datasets import make_blobs"
   ]
  },
  {
   "cell_type": "code",
   "execution_count": 4,
   "id": "9a14a695",
   "metadata": {},
   "outputs": [],
   "source": [
    "x1 = [2,10]\n",
    "x2 = [2,5]\n",
    "x3 = [8,4]\n",
    "x4 = [5,8]\n",
    "x5 = [7,5]\n",
    "x6 = [6,4]\n",
    "x7 = [1,2]\n",
    "x8 = [4,9]\n"
   ]
  },
  {
   "cell_type": "code",
   "execution_count": 5,
   "id": "45a170ae",
   "metadata": {},
   "outputs": [
    {
     "name": "stdout",
     "output_type": "stream",
     "text": [
      "[[ 2 10]\n",
      " [ 2  5]\n",
      " [ 8  4]\n",
      " [ 5  8]\n",
      " [ 7  5]\n",
      " [ 6  4]\n",
      " [ 1  2]\n",
      " [ 4  9]]\n"
     ]
    }
   ],
   "source": [
    "lists = [x1, x2, x3, x4, x5, x6, x7, x8]\n",
    "\n",
    "dataset = np.array(lists)\n",
    "\n",
    "print(dataset)"
   ]
  },
  {
   "cell_type": "markdown",
   "id": "8f2da7ff",
   "metadata": {},
   "source": [
    "### 3.1 Eucledian (Squared) distance matrix"
   ]
  },
  {
   "cell_type": "code",
   "execution_count": 6,
   "id": "38513cb1",
   "metadata": {},
   "outputs": [
    {
     "name": "stdout",
     "output_type": "stream",
     "text": [
      "[[ 0 25 72 13 50 52 65  5]\n",
      " [25  0 37 18 25 17 10 20]\n",
      " [72 37  0 25  2  4 53 41]\n",
      " [13 18 25  0 13 17 52  2]\n",
      " [50 25  2 13  0  2 45 25]\n",
      " [52 17  4 17  2  0 29 29]\n",
      " [65 10 53 52 45 29  0 58]\n",
      " [ 5 20 41  2 25 29 58  0]]\n"
     ]
    }
   ],
   "source": [
    "# Calculating eucledian distance and printing the distance matrix for the given observations\n",
    "\n",
    "def edm(a,b):\n",
    "    p1 = np.sum(a**2, axis =1)[:,np.newaxis]\n",
    "    p2 = np.sum(b**2, axis =1)\n",
    "    p3 = -2*np.dot(a,b.T)\n",
    "    #return np.round(np.sqrt(p1+p2+p3), 2)\n",
    "    return np.round((p1+p2+p3), 2)\n",
    "\n",
    "result = edm(dataset,dataset)\n",
    "print(result)"
   ]
  },
  {
   "cell_type": "markdown",
   "id": "bb9686a0",
   "metadata": {},
   "source": [
    "### Plotting Dendrograms"
   ]
  },
  {
   "cell_type": "code",
   "execution_count": 7,
   "id": "93f99f65",
   "metadata": {},
   "outputs": [],
   "source": [
    "import scipy.cluster.hierarchy as sch\n",
    "from scipy.spatial.distance import squareform\n",
    "\n",
    "from sklearn.cluster import AgglomerativeClustering"
   ]
  },
  {
   "cell_type": "markdown",
   "id": "1c27a8a3",
   "metadata": {},
   "source": []
  },
  {
   "cell_type": "code",
   "execution_count": 8,
   "id": "46363667",
   "metadata": {},
   "outputs": [
    {
     "data": {
      "text/plain": [
       "array([25, 72, 13, 50, 52, 65,  5, 37, 18, 25, 17, 10, 20, 25,  2,  4, 53,\n",
       "       41, 13, 17, 52,  2,  2, 45, 25, 29, 29, 58])"
      ]
     },
     "execution_count": 8,
     "metadata": {},
     "output_type": "execute_result"
    }
   ],
   "source": [
    "# 1-D distance matrix with Eucledian(Squared) distance matrix\n",
    "\n",
    "matrix_1d = squareform(result)\n",
    "matrix_1d"
   ]
  },
  {
   "cell_type": "markdown",
   "id": "5ab96e82",
   "metadata": {},
   "source": [
    "### Single linkage "
   ]
  },
  {
   "cell_type": "code",
   "execution_count": 21,
   "id": "7e1e66ec",
   "metadata": {},
   "outputs": [
    {
     "data": {
      "image/png": "[encoded data removed]",
      "text/plain": [
       "<Figure size 432x288 with 1 Axes>"
      ]
     },
     "metadata": {
      "needs_background": "light"
     },
     "output_type": "display_data"
    }
   ],
   "source": [
    "graph1 = sch.dendrogram(sch.linkage(matrix_1d, method ='single'))\n",
    "\n",
    "#Plotting\n",
    "plt.title('Single Linkage')\n",
    "plt.xlabel('Labels') # X-axis\n",
    "plt.ylabel('Euclidean distances') # Y-axis\n",
    "plt.show()"
   ]
  },
  {
   "cell_type": "markdown",
   "id": "3a3c08b5",
   "metadata": {},
   "source": [
    "### Complete linkage"
   ]
  },
  {
   "cell_type": "code",
   "execution_count": 20,
   "id": "d49b6dfa",
   "metadata": {},
   "outputs": [
    {
     "data": {
      "image/png": "[encoded data removed]",
      "text/plain": [
       "<Figure size 432x288 with 1 Axes>"
      ]
     },
     "metadata": {
      "needs_background": "light"
     },
     "output_type": "display_data"
    }
   ],
   "source": [
    "graph2 = sch.dendrogram(sch.linkage(matrix_1d, method ='complete'))\n",
    "\n",
    "#Plotting\n",
    "plt.title('Complete Linkage')\n",
    "plt.xlabel('Labels') # X-axis\n",
    "plt.ylabel('Euclidean distances') # Y-axis\n",
    "plt.show()"
   ]
  },
  {
   "cell_type": "markdown",
   "id": "888d31c8",
   "metadata": {},
   "source": [
    "### Average linkage"
   ]
  },
  {
   "cell_type": "code",
   "execution_count": 19,
   "id": "d07c46b9",
   "metadata": {},
   "outputs": [
    {
     "data": {
      "image/png": "[encoded data removed]",
      "text/plain": [
       "<Figure size 432x288 with 1 Axes>"
      ]
     },
     "metadata": {
      "needs_background": "light"
     },
     "output_type": "display_data"
    }
   ],
   "source": [
    "graph3 = sch.dendrogram(sch.linkage(matrix_1d, method ='average'))\n",
    "\n",
    "#Plotting\n",
    "plt.title('Average Linkage')\n",
    "plt.xlabel('Labels') # X-axis\n",
    "plt.ylabel('Euclidean distances') # Y-axis\n",
    "plt.show()"
   ]
  },
  {
   "cell_type": "markdown",
   "id": "8ed62ba9",
   "metadata": {},
   "source": [
    "### Centroid linkage"
   ]
  },
  {
   "cell_type": "code",
   "execution_count": 18,
   "id": "17a90144",
   "metadata": {},
   "outputs": [
    {
     "data": {
      "image/png": "[encoded data removed]",
      "text/plain": [
       "<Figure size 432x288 with 1 Axes>"
      ]
     },
     "metadata": {
      "needs_background": "light"
     },
     "output_type": "display_data"
    }
   ],
   "source": [
    "graph4 = sch.dendrogram(sch.linkage(matrix_1d, method ='centroid'))\n",
    "\n",
    "#Plotting\n",
    "plt.title('Centroid Linkage')\n",
    "plt.xlabel('Labels') # X-axis\n",
    "plt.ylabel('Euclidean distances') # Y-axis\n",
    "plt.show()"
   ]
  },
  {
   "cell_type": "markdown",
   "id": "d195e033",
   "metadata": {},
   "source": [
    "### Median linkage"
   ]
  },
  {
   "cell_type": "code",
   "execution_count": 17,
   "id": "4d1b9cda",
   "metadata": {},
   "outputs": [
    {
     "data": {
      "image/png": "[encoded data removed]",
      "text/plain": [
       "<Figure size 432x288 with 1 Axes>"
      ]
     },
     "metadata": {
      "needs_background": "light"
     },
     "output_type": "display_data"
    }
   ],
   "source": [
    "graph5 = sch.dendrogram(sch.linkage(matrix_1d, method ='median'))\n",
    "\n",
    "#Plotting\n",
    "plt.title('Median Linkage') \n",
    "plt.xlabel('Labels') # x-axis\n",
    "plt.ylabel('Euclidean distances') # y-axis\n",
    "plt.show()"
   ]
  },
  {
   "cell_type": "code",
   "execution_count": null,
   "id": "0f3e03d8",
   "metadata": {},
   "outputs": [],
   "source": []
  },
  {
   "cell_type": "code",
   "execution_count": null,
   "id": "91ae541e",
   "metadata": {},
   "outputs": [],
   "source": []
  },
  {
   "cell_type": "code",
   "execution_count": null,
   "id": "c36a12c1",
   "metadata": {},
   "outputs": [],
   "source": []
  },
  {
   "cell_type": "code",
   "execution_count": null,
   "id": "a1d18699",
   "metadata": {},
   "outputs": [],
   "source": []
  },
  {
   "cell_type": "code",
   "execution_count": null,
   "id": "07638463",
   "metadata": {},
   "outputs": [],
   "source": []
  },
  {
   "cell_type": "code",
   "execution_count": null,
   "id": "f81e1261",
   "metadata": {},
   "outputs": [],
   "source": []
  },
  {
   "cell_type": "code",
   "execution_count": null,
   "id": "40e2ea46",
   "metadata": {},
   "outputs": [],
   "source": []
  },
  {
   "cell_type": "code",
   "execution_count": null,
   "id": "9b70540e",
   "metadata": {},
   "outputs": [],
   "source": []
  },
  {
   "cell_type": "code",
   "execution_count": null,
   "id": "3be70e22",
   "metadata": {},
   "outputs": [],
   "source": []
  },
  {
   "cell_type": "code",
   "execution_count": null,
   "id": "bc436d95",
   "metadata": {},
   "outputs": [],
   "source": []
  },
  {
   "cell_type": "code",
   "execution_count": null,
   "id": "9ea66380",
   "metadata": {},
   "outputs": [],
   "source": []
  }
 ],
 "metadata": {
  "kernelspec": {
   "display_name": "Python 3 (ipykernel)",
   "language": "python",
   "name": "python3"
  },
  "language_info": {
   "codemirror_mode": {
    "name": "ipython",
    "version": 3
   },
   "file_extension": ".py",
   "mimetype": "text/x-python",
   "name": "python",
   "nbconvert_exporter": "python",
   "pygments_lexer": "ipython3",
   "version": "3.8.15"
  }
 },
 "nbformat": 4,
 "nbformat_minor": 5
}
