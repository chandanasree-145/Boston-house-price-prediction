{
 "cells": [
  {
   "cell_type": "markdown",
   "id": "a9cac0d7",
   "metadata": {},
   "source": [
    "## Question 3"
   ]
  },
  {
   "cell_type": "markdown",
   "id": "6d821098",
   "metadata": {},
   "source": [
    "### Case1\n",
    "\n",
    "#### Credit Risk Assesment: \n",
    "\n",
    "Credit default risk is the chance that companies/individuals will be unable to make the required payments on their debt obligations, which can lead to a possibility of loss for a lender. Earlier credit analysts would assess the risk by analyzing the borrower’s credentials and capabilities, but then this was prone to errors. With the advent of Machine learning, ML algorithms can perform the credit risk assessment with better precision and much faster than any humans.\n",
    "\n",
    "\n",
    "**Features:** Customer ID,\n",
    "              Age,\n",
    "\t          Annual Income,\n",
    "              Home ownership,\n",
    "\t          Employment length (in years),\n",
    "\t          Loan intent,\n",
    "              Loan grade,\n",
    "              Loan amount,\n",
    "              Interest rate,\n",
    "              Credit score,\n",
    "\t          Percent income,\n",
    "\t          Historical default,\n",
    "              Credit history length\n",
    "              \n",
    "**Target:** Loan status \n",
    "\n",
    "\n",
    "**Problem type:** Binary Classification\n",
    "\n",
    "\n",
    "**ML algorithms:** KNN, logistic regression, and XGBoost(Extreme Gradient Boosting) etc.,\n",
    "\n",
    "\n",
    "**Performance metrics:** Accuracy, Precision, Recall, and F1 score to evaluate model’s performance\n",
    "\n",
    "\n",
    "**Data source:** As the customer data is highly confedential the data can only be sourced from companies personal databases\n",
    "\n",
    "\n",
    "**Open source Data:** There are many open source data files available for this problem statement in the platforms like kaggle, github etc.,\n",
    "\n",
    "<br>https://www.kaggle.com/datasets/laotse/credit-risk-dataset</br>\n",
    "<br>https://www.kaggle.com/datasets/uciml/german-credit</br>\n",
    "<br>https://www.kaggle.com/datasets/praveengovi/credit-risk-classification-dataset</br>\n",
    "                 \n",
    "\n",
    "\n",
    "\n",
    "\n",
    "\n",
    "\n"
   ]
  },
  {
   "cell_type": "code",
   "execution_count": null,
   "id": "0d3189cd",
   "metadata": {},
   "outputs": [],
   "source": []
  },
  {
   "cell_type": "markdown",
   "id": "0f8f55c9",
   "metadata": {},
   "source": [
    "### Case 2"
   ]
  },
  {
   "cell_type": "markdown",
   "id": "79743fdc",
   "metadata": {},
   "source": [
    "#### Company Bankruptcy Prediction: \n",
    "\n",
    "Bankruptcy prediction has long been a significant issue in the finance and accounting world latest example include the bankruptcy of FTX (Crypto exchange firm). Since the health of a firm is essential to its creditors, investors, shareholders, partners, and even its buyers and suppliers, It is of utmost importance that we can accurately predict the bankruptcy of organizations.\n",
    "\n",
    "**Features:** Net Income to Total Assets, Interest Coverage Ratio (Interest expense to EBIT), Cash Flow to Liability, Retained Earnings to Total Assets, Total Asset Growth Rate, Operating Profit Rate, Cash flow rate, After-tax net Interest Rate, Operating Profit Per Share, Operating Expense Rate, Cash Flow to Sales,  Cash Reinvestment,  Cash Flow Per Share, CFO to Assets,  Cash/Current Liability\n",
    "\n",
    "**Target:** Bankrupt\n",
    "\n",
    "\n",
    "**Problem type:** Binary Classification\n",
    "\n",
    "\n",
    "**ML algorithms:** Logistic Regression, Support Vector Machines(SVM), Random forest, K nearest neighbors etc.,\n",
    "\n",
    "\n",
    "**Performance metrics:** Accuracy, Precision, Recall, and F1 score to evaluate model’s performance\n",
    "\n",
    "\n",
    "**Data Source:** Can Source this kind of data through Stock exchange platforms like NIFTY(India), Taiwan stock exchange etc.,\n",
    "\n",
    "\n",
    "**Open source data:** There are many open source data files available for this problem statement in Kaggle platform\n",
    "\n",
    "\n",
    "<br>https://www.kaggle.com/datasets/fedesoriano/company-bankruptcy-prediction</br>"
   ]
  },
  {
   "cell_type": "markdown",
   "id": "13c067ff",
   "metadata": {},
   "source": []
  },
  {
   "cell_type": "markdown",
   "id": "9cfd41d7",
   "metadata": {},
   "source": [
    "## Case 3"
   ]
  },
  {
   "cell_type": "markdown",
   "id": "870fd02b",
   "metadata": {},
   "source": [
    "### Customer churn prediction:\n",
    "\n",
    "Customer churn or customer attrition is a tendency of clients or customers to abandon a brand and stop being a paying client of a particular business or organization. The percentage of customers that discontinue using a company’s services or products during a specific period is called a customer churn rate. Several bad experiences (or just one) are enough, and a customer may quit. And if a large chunk of unsatisfied customers churn at a time interval, both material losses and damage to reputation would be enormous.\n",
    "\n",
    "**Features:** CustomerId,Surname,CreditScore,Geography,Gender,Age,Tenure,Balance,NumOfProducts,CreditCard,IsActiveMember,EstimatedSalary\n",
    "\n",
    "\n",
    "**Target:** Exited\n",
    "\n",
    "\n",
    "**ML algorithms:** Logistic regression, Naive Bayes Classifier, Tree-based algorithms, Random Forest, etc. To increase efficiency, use advanced algorithms like XGBoost, LightGBM, or CatBoost. \n",
    "\n",
    "\n",
    "**Metrics:** Confusion Matrix, Precision, Recall, Accuracy), AUC & ROC etc.,\n",
    "\n",
    "\n",
    "**Open source data:** There are many open source data files available for this problem statement in Kaggle platform\n",
    "\n",
    "<br>https://www.kaggle.com/code/fisherc20/customer-churn-prediction</br>\n",
    "<br>https://www.kaggle.com/code/kmalit/bank-customer-churn-prediction</br>\n",
    "<br>https://www.kaggle.com/code/mnassrib/customer-churn-prediction-telecom-churn-dataset</br>\n"
   ]
  },
  {
   "cell_type": "code",
   "execution_count": null,
   "id": "85f8ef36",
   "metadata": {},
   "outputs": [],
   "source": []
  },
  {
   "cell_type": "markdown",
   "id": "463b5002",
   "metadata": {},
   "source": [
    "### Case Study on Portfolio Management\n",
    "\n",
    "Through out my study, I understood that Banor Sim's one of the most priority service is risk analytics and portfolio management, to make more informed investment decisions and operate more efficiently.\n",
    "\n",
    "Taking this case study to next level, I am creating a scenario where my role requires to analyse a portfolio of stocks to provide consultation on investment management based on client’s requirement"
   ]
  },
  {
   "attachments": {},
   "cell_type": "markdown",
   "id": "5270a44d",
   "metadata": {},
   "source": [
    "#### Portfolio Management\n",
    "\n",
    "Portfolio management is a wealth management service that uses statistical points of the issue as well as automated algorithms to optimize the performance of clients' assets. Customers fill in their financial goals, for example, to save some amount of money during a certain period of time. The companies assigns current assets to investment variants and opportunities. Portfolio management involves creating and overseeing selected investments that align with the investor's long-term financial goals and risk tolerance.\n",
    "\n",
    "\n",
    "\n",
    "My task is to provide consultation to two different investors, Mr.X and Mr.Y based on their requirements and financial objectives.\n",
    "\n",
    "I have all the stock values files of several companies based upon their Industry type.\n",
    "\n",
    "For eg: sample data for the amazon stock file has all these features Open, High, Low, Close, Adj close, Volume, Company, Industry\n",
    "\n",
    "Therefore, I merge all stock values datasets of several companies into one and choose only Close prices and Volume columns from every company as I only need them for my analysis.\n",
    "\n",
    "Then I calculate the Daily returns, Cummulative returns and Normalised Returns from each stock. \n",
    "\n",
    "Where daily return is the percentage change in the price of the stock from the previous day. This can be calculated using the percentage change in the price on a daily basis, Cummulative return is the total return since the beginning\n",
    "\n",
    "The next step is to Calculate Metrics for Stock Selection based on Average daily return from each stock, Annualised daily returns from each stock, and Cummulative returns \n",
    "\n",
    "Risk factor refered as standard risk(stock risk) or volatility in percent is calculated for every company and Annual stock risk and sharpe ratio are also calculated.\n",
    "\n",
    "Finally, to choose the right stocks for Mr. X and Mr. Y, Combine the returns and risk factor for individual stocks and draw the outcomes based upon their requirements for example whether to double the investment in specific time period with minimum risk or for a high yeild with no assesment on Risk ect.,\n",
    " \n"
   ]
  },
  {
   "cell_type": "code",
   "execution_count": null,
   "id": "5ad805d7",
   "metadata": {},
   "outputs": [],
   "source": []
  },
  {
   "cell_type": "code",
   "execution_count": null,
   "id": "d8c9ef7e",
   "metadata": {},
   "outputs": [],
   "source": []
  },
  {
   "cell_type": "code",
   "execution_count": null,
   "id": "f2486835",
   "metadata": {},
   "outputs": [],
   "source": []
  }
 ],
 "metadata": {
  "kernelspec": {
   "display_name": "Python 3",
   "language": "python",
   "name": "python3"
  },
  "language_info": {
   "codemirror_mode": {
    "name": "ipython",
    "version": 3
   },
   "file_extension": ".py",
   "mimetype": "text/x-python",
   "name": "python",
   "nbconvert_exporter": "python",
   "pygments_lexer": "ipython3",
   "version": "3.8.8"
  }
 },
 "nbformat": 4,
 "nbformat_minor": 5
}
